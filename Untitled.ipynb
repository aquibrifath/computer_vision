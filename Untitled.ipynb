{
 "cells": [
  {
   "cell_type": "code",
   "execution_count": null,
   "id": "54581a25",
   "metadata": {},
   "outputs": [],
   "source": [
    "/home/aquirah/Documents/infra1"
   ]
  },
  {
   "cell_type": "code",
   "execution_count": 3,
   "id": "70f000de",
   "metadata": {},
   "outputs": [],
   "source": [
    "import cv2\n",
    "import numpy as np\n",
    "from matplotlib import pyplot as plt\n",
    "\n",
    "# Load the image\n",
    "img1 = cv2.imread('/home/aquirah/Documents/infra1/img1_Infrared.png',cv2.IMREAD_GRAYSCALE) \n"
   ]
  },
  {
   "cell_type": "code",
   "execution_count": null,
   "id": "539ad91f",
   "metadata": {},
   "outputs": [],
   "source": []
  }
 ],
 "metadata": {
  "kernelspec": {
   "display_name": "Python 3 (ipykernel)",
   "language": "python",
   "name": "python3"
  },
  "language_info": {
   "codemirror_mode": {
    "name": "ipython",
    "version": 3
   },
   "file_extension": ".py",
   "mimetype": "text/x-python",
   "name": "python",
   "nbconvert_exporter": "python",
   "pygments_lexer": "ipython3",
   "version": "3.9.12"
  }
 },
 "nbformat": 4,
 "nbformat_minor": 5
}
